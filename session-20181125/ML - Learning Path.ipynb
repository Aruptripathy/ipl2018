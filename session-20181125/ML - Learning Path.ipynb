{
 "cells": [
  {
   "cell_type": "markdown",
   "metadata": {},
   "source": [
    "## Machine Learning - Path\n",
    "* Problem Statement Understanding\n",
    "  * Breaking down the problem\n",
    "  * Understanding the data needs\n",
    "  * Forming hypotheses\n",
    "  * Validating hypotheses\n",
    "* Data Fetch\n",
    "  * Web Scraping\n",
    "  * Web Automation\n",
    "  * HTML/tags/xpath/css\n",
    "* Data Storage\n",
    "  * Connecting to a database\n",
    "  * Storing the fetched dataset into the database\n",
    "  * Structured as well as Unstructured data\n",
    "  * Structured - Postgresql, Unstructured - MongoDB (some minimal charges)\n",
    "* Data Representation/Manipulation/Pre-processing\n",
    "  * Data Visualization\n",
    "  * Data Processing (Pandas/Numpy)\n",
    "  * Reporting (working with csvs,texts,excels, pdfs)\n",
    "  * Working with Dataframes/series/numpy n-dimensional arrays\n",
    "* Mathematics of Machine Learning\n",
    "  * Linear Algebra\n",
    "  * Matrices\n",
    "  * Vectors\n",
    "  * Differential/Partial Differential Calculus\n",
    "  * Optimization methods\n",
    "  * Gradient Descent methods\n",
    "  * OLE methods (ordinary Least squares)\n",
    "  * Statistics \n",
    "    * Hypothesis building\n",
    "    * Hypothesis testing\n",
    "    * Different tests of hypothesis validation\n",
    "    * Type I/II errors\n",
    "    * p-value, z-scores\n",
    "* Machine Learning\n",
    "  * Mathematics of models\n",
    "  * Features - What are they?\n",
    "  * Feature Extraction\n",
    "  * Feature Reduction \n",
    "  * Model Initialization\n",
    "  * Model Implementation\n",
    "  * Model Evaluation\n",
    "  * Model Optimization\n",
    "  * Hyper-parameter tuning\n",
    "  * Processing of text/images/numeric data (audio)\n",
    "* Deep Learning\n",
    "  * Computer Vision\n",
    "  * Natural Language Processing\n",
    "* Additional \n",
    "  * Working on cloud\n",
    "  * Working with APIs\n",
    "  * Building a simple API\n",
    "  * Building a simple web app with Flask\n",
    "  * Building good visualization using Plotly"
   ]
  },
  {
   "cell_type": "code",
   "execution_count": null,
   "metadata": {},
   "outputs": [],
   "source": []
  }
 ],
 "metadata": {
  "kernelspec": {
   "display_name": "Python 3",
   "language": "python",
   "name": "python3"
  },
  "language_info": {
   "codemirror_mode": {
    "name": "ipython",
    "version": 3
   },
   "file_extension": ".py",
   "mimetype": "text/x-python",
   "name": "python",
   "nbconvert_exporter": "python",
   "pygments_lexer": "ipython3",
   "version": "3.6.4"
  }
 },
 "nbformat": 4,
 "nbformat_minor": 2
}
