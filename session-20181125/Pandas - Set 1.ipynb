{
  "cells": [
    {
      "metadata": {},
      "cell_type": "markdown",
      "source": "## Objectives\n* Solve some real world questions related to IPL 2018 using numpy and pandas functions and structure\n\n### What do you need to solve the questions?\n* Understanding of functions belonging to pandas library : \n  * How to read data from a URL\n  * What is a dataframe? What is a Series?\n  * How to read rows and columns from a dataframe\n  * How to group rows in a dataframe (just like the groupby clause in SQL)\n  * How to perform aggregations (sum/min/max/average) on a column/group of columns in a dataframe\n  * How to create calculated columns in a dataframe?\n  \n### Some good starting points : \n* [10 minutes to Pandas](http://pandas.pydata.org/pandas-docs/stable/10min.html)\n* If you like learning from videos, [here](https://www.youtube.com/playlist?list=PL5-da3qGB5ICCsgW1MxlZ0Hq8LL5U3u9y) is an engaging series"
    },
    {
      "metadata": {},
      "cell_type": "markdown",
      "source": "List down your understanding of the dataset"
    },
    {
      "metadata": {
        "trusted": true
      },
      "cell_type": "code",
      "source": "import pandas as pd",
      "execution_count": 2,
      "outputs": []
    },
    {
      "metadata": {
        "trusted": true,
        "scrolled": true
      },
      "cell_type": "code",
      "source": "#what is the maximum score of IPL 2018 and who scored it?\ndf = pd.read_csv('iplfinal.csv',sep='|')\ndf.head()",
      "execution_count": 4,
      "outputs": [
        {
          "output_type": "execute_result",
          "execution_count": 4,
          "data": {
            "text/plain": "                                   match_description  match_date  \\\n0  Mumbai Indians vs Chennai Super Kings, 1st Mat...  2018-04-07   \n1  Mumbai Indians vs Chennai Super Kings, 1st Mat...  2018-04-07   \n2  Mumbai Indians vs Chennai Super Kings, 1st Mat...  2018-04-07   \n3  Mumbai Indians vs Chennai Super Kings, 1st Mat...  2018-04-07   \n4  Mumbai Indians vs Chennai Super Kings, 1st Mat...  2018-04-07   \n\n         match_venue match_location                      match_result  \\\n0  Wankhede Stadium,         Mumbai  Chennai Super Kings won by 1 wkt   \n1  Wankhede Stadium,         Mumbai  Chennai Super Kings won by 1 wkt   \n2  Wankhede Stadium,         Mumbai  Chennai Super Kings won by 1 wkt   \n3  Wankhede Stadium,         Mumbai  Chennai Super Kings won by 1 wkt   \n4  Wankhede Stadium,         Mumbai  Chennai Super Kings won by 1 wkt   \n\n                team_name innings_order       batsman_name  \\\n0  Mumbai Indians Innings     innings_1   Rohit Sharma (c)   \n1  Mumbai Indians Innings     innings_1         Evin Lewis   \n2  Mumbai Indians Innings     innings_1  Ishan Kishan (wk)   \n3  Mumbai Indians Innings     innings_1   Suryakumar Yadav   \n4  Mumbai Indians Innings     innings_1      Hardik Pandya   \n\n         dismissal_mode  runs  balls  fours  sixes  \n0     c Rayudu b Watson    15     18      1      1  \n1        lbw b D Chahar     0      2      0      0  \n2   c Mark Wood b Tahir    40     29      4      1  \n3  c Harbhajan b Watson    43     29      6      1  \n4               not out    22     20      2      0  ",
            "text/html": "<div>\n<table border=\"1\" class=\"dataframe\">\n  <thead>\n    <tr style=\"text-align: right;\">\n      <th></th>\n      <th>match_description</th>\n      <th>match_date</th>\n      <th>match_venue</th>\n      <th>match_location</th>\n      <th>match_result</th>\n      <th>team_name</th>\n      <th>innings_order</th>\n      <th>batsman_name</th>\n      <th>dismissal_mode</th>\n      <th>runs</th>\n      <th>balls</th>\n      <th>fours</th>\n      <th>sixes</th>\n    </tr>\n  </thead>\n  <tbody>\n    <tr>\n      <th>0</th>\n      <td>Mumbai Indians vs Chennai Super Kings, 1st Mat...</td>\n      <td>2018-04-07</td>\n      <td>Wankhede Stadium,</td>\n      <td>Mumbai</td>\n      <td>Chennai Super Kings won by 1 wkt</td>\n      <td>Mumbai Indians Innings</td>\n      <td>innings_1</td>\n      <td>Rohit Sharma (c)</td>\n      <td>c Rayudu b Watson</td>\n      <td>15</td>\n      <td>18</td>\n      <td>1</td>\n      <td>1</td>\n    </tr>\n    <tr>\n      <th>1</th>\n      <td>Mumbai Indians vs Chennai Super Kings, 1st Mat...</td>\n      <td>2018-04-07</td>\n      <td>Wankhede Stadium,</td>\n      <td>Mumbai</td>\n      <td>Chennai Super Kings won by 1 wkt</td>\n      <td>Mumbai Indians Innings</td>\n      <td>innings_1</td>\n      <td>Evin Lewis</td>\n      <td>lbw b D Chahar</td>\n      <td>0</td>\n      <td>2</td>\n      <td>0</td>\n      <td>0</td>\n    </tr>\n    <tr>\n      <th>2</th>\n      <td>Mumbai Indians vs Chennai Super Kings, 1st Mat...</td>\n      <td>2018-04-07</td>\n      <td>Wankhede Stadium,</td>\n      <td>Mumbai</td>\n      <td>Chennai Super Kings won by 1 wkt</td>\n      <td>Mumbai Indians Innings</td>\n      <td>innings_1</td>\n      <td>Ishan Kishan (wk)</td>\n      <td>c Mark Wood b Tahir</td>\n      <td>40</td>\n      <td>29</td>\n      <td>4</td>\n      <td>1</td>\n    </tr>\n    <tr>\n      <th>3</th>\n      <td>Mumbai Indians vs Chennai Super Kings, 1st Mat...</td>\n      <td>2018-04-07</td>\n      <td>Wankhede Stadium,</td>\n      <td>Mumbai</td>\n      <td>Chennai Super Kings won by 1 wkt</td>\n      <td>Mumbai Indians Innings</td>\n      <td>innings_1</td>\n      <td>Suryakumar Yadav</td>\n      <td>c Harbhajan b Watson</td>\n      <td>43</td>\n      <td>29</td>\n      <td>6</td>\n      <td>1</td>\n    </tr>\n    <tr>\n      <th>4</th>\n      <td>Mumbai Indians vs Chennai Super Kings, 1st Mat...</td>\n      <td>2018-04-07</td>\n      <td>Wankhede Stadium,</td>\n      <td>Mumbai</td>\n      <td>Chennai Super Kings won by 1 wkt</td>\n      <td>Mumbai Indians Innings</td>\n      <td>innings_1</td>\n      <td>Hardik Pandya</td>\n      <td>not out</td>\n      <td>22</td>\n      <td>20</td>\n      <td>2</td>\n      <td>0</td>\n    </tr>\n  </tbody>\n</table>\n</div>"
          },
          "metadata": {}
        }
      ]
    },
    {
      "metadata": {
        "trusted": false
      },
      "cell_type": "code",
      "source": "#how many centuries were hit in IPL 2018?\n",
      "execution_count": 2,
      "outputs": []
    },
    {
      "metadata": {
        "trusted": false
      },
      "cell_type": "code",
      "source": "#list down the century makers, their scores and their strike rates\n",
      "execution_count": 3,
      "outputs": []
    },
    {
      "metadata": {
        "trusted": false
      },
      "cell_type": "code",
      "source": "#list down the top 5 most consistent batsmen\n",
      "execution_count": 4,
      "outputs": []
    },
    {
      "metadata": {
        "trusted": false
      },
      "cell_type": "code",
      "source": "# what are the total number of duck dismissals?\n",
      "execution_count": 6,
      "outputs": []
    },
    {
      "metadata": {
        "trusted": false
      },
      "cell_type": "code",
      "source": "# lit top 5 players by contribution of boundaries to total scores\n",
      "execution_count": 7,
      "outputs": []
    },
    {
      "metadata": {
        "trusted": false
      },
      "cell_type": "code",
      "source": "# which location is most batsman friendly\n# the location which has the most runs made per match + where %of runs from boundaries is high\n",
      "execution_count": 8,
      "outputs": []
    }
  ],
  "metadata": {
    "kernelspec": {
      "name": "python3",
      "display_name": "Python 3",
      "language": "python"
    },
    "language_info": {
      "mimetype": "text/x-python",
      "nbconvert_exporter": "python",
      "name": "python",
      "pygments_lexer": "ipython3",
      "version": "3.5.4",
      "file_extension": ".py",
      "codemirror_mode": {
        "version": 3,
        "name": "ipython"
      }
    }
  },
  "nbformat": 4,
  "nbformat_minor": 2
}