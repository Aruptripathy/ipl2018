{
 "cells": [
  {
   "cell_type": "markdown",
   "metadata": {},
   "source": [
    "## Objectives\n",
    "* Solve some real world questions related to IPL 2018 using numpy and pandas functions and structure\n",
    "\n",
    "### What do you need to solve the questions?\n",
    "* Understanding of functions belonging to pandas library : \n",
    "  * How to read data from a URL\n",
    "  * What is a dataframe? What is a Series?\n",
    "  * How to read rows and columns from a dataframe\n",
    "  * How to group rows in a dataframe (just like the groupby clause in SQL)\n",
    "  * How to perform aggregations (sum/min/max/average) on a column/group of columns in a dataframe\n",
    "  * How to create calculated columns in a dataframe?\n",
    "  \n",
    "### Some good starting points : \n",
    "* [10 minutes to Pandas](http://pandas.pydata.org/pandas-docs/stable/10min.html)\n",
    "* If you like learning from videos, [here](https://www.youtube.com/playlist?list=PL5-da3qGB5ICCsgW1MxlZ0Hq8LL5U3u9y) is an engaging series"
   ]
  },
  {
   "cell_type": "markdown",
   "metadata": {},
   "source": [
    "List down your understanding of the dataset"
   ]
  },
  {
   "cell_type": "code",
   "execution_count": 1,
   "metadata": {},
   "outputs": [],
   "source": [
    "#what is the maximum score of IPL 2018 and who scored it?\n"
   ]
  },
  {
   "cell_type": "code",
   "execution_count": 2,
   "metadata": {},
   "outputs": [],
   "source": [
    "#how many centuries were hit in IPL 2018?\n"
   ]
  },
  {
   "cell_type": "code",
   "execution_count": 3,
   "metadata": {},
   "outputs": [],
   "source": [
    "#list down the century makers, their scores and their strike rates\n"
   ]
  },
  {
   "cell_type": "code",
   "execution_count": 4,
   "metadata": {},
   "outputs": [],
   "source": [
    "#list down the top 5 most consistent batsmen\n"
   ]
  },
  {
   "cell_type": "code",
   "execution_count": 6,
   "metadata": {},
   "outputs": [],
   "source": [
    "# what are the total number of duck dismissals?\n"
   ]
  },
  {
   "cell_type": "code",
   "execution_count": 7,
   "metadata": {},
   "outputs": [],
   "source": [
    "# lit top 5 players by contribution of boundaries to total scores\n"
   ]
  },
  {
   "cell_type": "code",
   "execution_count": 8,
   "metadata": {},
   "outputs": [],
   "source": [
    "# which location is most batsman friendly\n",
    "# the location which has the most runs made per match + where %of runs from boundaries is high\n"
   ]
  }
 ],
 "metadata": {
  "kernelspec": {
   "display_name": "Python 3",
   "language": "python",
   "name": "python3"
  },
  "language_info": {
   "codemirror_mode": {
    "name": "ipython",
    "version": 3
   },
   "file_extension": ".py",
   "mimetype": "text/x-python",
   "name": "python",
   "nbconvert_exporter": "python",
   "pygments_lexer": "ipython3",
   "version": "3.6.4"
  }
 },
 "nbformat": 4,
 "nbformat_minor": 2
}
